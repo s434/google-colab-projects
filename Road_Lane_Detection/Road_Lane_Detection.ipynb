{
  "nbformat": 4,
  "nbformat_minor": 0,
  "metadata": {
    "colab": {
      "provenance": [],
      "authorship_tag": "ABX9TyMAXJfrHIJbHpdRVV3/Ng59",
      "include_colab_link": true
    },
    "kernelspec": {
      "name": "python3",
      "display_name": "Python 3"
    },
    "language_info": {
      "name": "python"
    }
  },
  "cells": [
    {
      "cell_type": "markdown",
      "metadata": {
        "id": "view-in-github",
        "colab_type": "text"
      },
      "source": [
        "<a href=\"https://colab.research.google.com/github/s434/google-colab-projects/blob/main/Road_Lane_Detection/Road_Lane_Detection.ipynb\" target=\"_parent\"><img src=\"https://colab.research.google.com/assets/colab-badge.svg\" alt=\"Open In Colab\"/></a>"
      ]
    },
    {
      "cell_type": "code",
      "source": [
        "import cv2\n",
        "import numpy as np\n"
      ],
      "metadata": {
        "id": "KyJZVPArYK6-"
      },
      "execution_count": null,
      "outputs": []
    },
    {
      "cell_type": "code",
      "source": [
        "from google.colab.patches import cv2_imshow"
      ],
      "metadata": {
        "id": "9gAkZ3ITa27o"
      },
      "execution_count": null,
      "outputs": []
    },
    {
      "cell_type": "code",
      "source": [
        "img = cv2.imread(\"lines.png\")\n"
      ],
      "metadata": {
        "id": "6JxSEAEyYbv_"
      },
      "execution_count": null,
      "outputs": []
    },
    {
      "cell_type": "code",
      "source": [
        "gray = cv2.cvtColor(img, cv2.COLOR_BGR2GRAY)\n",
        "edges = cv2.Canny(gray, 75, 150)"
      ],
      "metadata": {
        "id": "JM1XuQmFYoEl"
      },
      "execution_count": null,
      "outputs": []
    },
    {
      "cell_type": "code",
      "source": [
        "lines = cv2.HoughLinesP(edges, 1, np.pi/180, 30, maxLineGap = 250)\n",
        "print(lines)"
      ],
      "metadata": {
        "id": "0y4BKkmMaRgy",
        "colab": {
          "base_uri": "https://localhost:8080/"
        },
        "outputId": "8bb04053-fe01-4554-8e4f-55a8029deee6"
      },
      "execution_count": null,
      "outputs": [
        {
          "output_type": "stream",
          "name": "stdout",
          "text": [
            "[[[ 59  34 206  34]]\n",
            "\n",
            " [[ 59 104 206 104]]\n",
            "\n",
            " [[ 59 106 206 106]]\n",
            "\n",
            " [[ 59  36 206  36]]\n",
            "\n",
            " [[ 59 105  59  35]]\n",
            "\n",
            " [[206 105 206  35]]\n",
            "\n",
            " [[204 103 204  37]]\n",
            "\n",
            " [[ 61 103  61  37]]]\n"
          ]
        }
      ]
    },
    {
      "cell_type": "code",
      "source": [
        "for line in lines:\n",
        "  x1, y1, x2, y2 = line[0]\n",
        "  cv2.line(img, (x1, y1), (x2, y2), (0, 255, 0), 2)"
      ],
      "metadata": {
        "id": "yrJmeQkcbEzy"
      },
      "execution_count": null,
      "outputs": []
    },
    {
      "cell_type": "code",
      "source": [],
      "metadata": {
        "id": "V7pAoL5UbMZC"
      },
      "execution_count": null,
      "outputs": []
    },
    {
      "cell_type": "code",
      "source": [
        "cv2_imshow(img)"
      ],
      "metadata": {
        "colab": {
          "base_uri": "https://localhost:8080/",
          "height": 185
        },
        "id": "OnCl7Je4bjFL",
        "outputId": "2003a590-9b72-4b5a-e317-6953fe870451"
      },
      "execution_count": null,
      "outputs": [
        {
          "output_type": "display_data",
          "data": {
            "text/plain": [
              "<PIL.Image.Image image mode=RGB size=300x168 at 0x7F053E0B16D0>"
            ],
            "image/png": "[encoded data removed]"
          },
          "metadata": {}
        }
      ]
    },
    {
      "cell_type": "code",
      "source": [
        "cv2_imshow(edges)"
      ],
      "metadata": {
        "colab": {
          "base_uri": "https://localhost:8080/",
          "height": 185
        },
        "id": "8dKu7P7RaKtY",
        "outputId": "86ce1ab9-46c1-4519-c006-8a4f30a55b85"
      },
      "execution_count": null,
      "outputs": [
        {
          "output_type": "display_data",
          "data": {
            "text/plain": [
              "<PIL.Image.Image image mode=L size=300x168 at 0x7F053E19AE10>"
            ],
            "image/png": "[encoded data removed]"
          },
          "metadata": {}
        }
      ]
    },
    {
      "cell_type": "code",
      "source": [
        "video = cv2.VideoCapture(\"road.mp4\")\n",
        "\n",
        "while True:\n",
        "  ret, orig_frame = video.read()\n",
        "\n",
        "  if not ret:\n",
        "    video = cv2.VideoCapture(\"road.mp4\")\n",
        "    continue\n",
        "\n",
        "  frame = cv2.GaussianBlur(orig_frame, (5, 5), 0)\n",
        "  hsv = cv2.cvtColor(frame, cv2.COLOR_BGR2HSV)\n",
        "  low_yellow = np.array([18, 94, 140])\n",
        "  up_yellow = np.array([48, 255, 255])\n",
        "  mask = cv2.inRange(hsv, low_yellow, up_yellow)\n",
        "  edges = cv2.Canny(mask, 75, 150)\n",
        "\n",
        "  lines = cv2.HoughLinesP(edges, 1, np.pi/180, 50, maxLineGap = 50)\n",
        "  if lines is not None:\n",
        "    for line in lines:\n",
        "      x1, y1, x2, y2 = line[0]\n",
        "      cv2.line(frame, (x1, y1), (x2, y2), (0, 255, 0), 2)\n",
        "\n"
      ],
      "metadata": {
        "id": "lPEFN0fufVL4"
      },
      "execution_count": null,
      "outputs": []
    },
    {
      "cell_type": "code",
      "source": [
        "cv2_imshow(frame)"
      ],
      "metadata": {
        "id": "spDwywmJneQc"
      },
      "execution_count": null,
      "outputs": []
    }
  ]
}