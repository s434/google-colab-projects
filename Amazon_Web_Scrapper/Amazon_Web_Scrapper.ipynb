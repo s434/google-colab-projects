{
  "nbformat": 4,
  "nbformat_minor": 0,
  "metadata": {
    "colab": {
      "provenance": [],
      "authorship_tag": "ABX9TyNDXawL5ptyRwgn1CzUBHpD",
      "include_colab_link": true
    },
    "kernelspec": {
      "name": "python3",
      "display_name": "Python 3"
    },
    "language_info": {
      "name": "python"
    }
  },
  "cells": [
    {
      "cell_type": "markdown",
      "metadata": {
        "id": "view-in-github",
        "colab_type": "text"
      },
      "source": [
        "<a href=\"https://colab.research.google.com/github/s434/google-colab-projects/blob/main/Amazon_Web_Scrapper/Amazon_Web_Scrapper.ipynb\" target=\"_parent\"><img src=\"https://colab.research.google.com/assets/colab-badge.svg\" alt=\"Open In Colab\"/></a>"
      ]
    },
    {
      "cell_type": "code",
      "source": [
        "import csv\n",
        "from bs4 import BeautifulSoup\n"
      ],
      "metadata": {
        "id": "EO03b30E0nvP"
      },
      "execution_count": null,
      "outputs": []
    },
    {
      "cell_type": "code",
      "source": [
        "!pip install selenium"
      ],
      "metadata": {
        "colab": {
          "base_uri": "https://localhost:8080/",
          "height": 766
        },
        "id": "nGHJsmLZCxmo",
        "outputId": "bd4646aa-48ec-42dc-beba-672e12047458"
      },
      "execution_count": null,
      "outputs": [
        {
          "output_type": "stream",
          "name": "stdout",
          "text": [
            "Looking in indexes: https://pypi.org/simple, https://us-python.pkg.dev/colab-wheels/public/simple/\n",
            "Collecting selenium\n",
            "  Downloading selenium-4.4.3-py3-none-any.whl (985 kB)\n",
            "\u001b[K     |████████████████████████████████| 985 kB 6.8 MB/s \n",
            "\u001b[?25hCollecting trio-websocket~=0.9\n",
            "  Downloading trio_websocket-0.9.2-py3-none-any.whl (16 kB)\n",
            "Requirement already satisfied: certifi>=2021.10.8 in /usr/local/lib/python3.7/dist-packages (from selenium) (2022.6.15)\n",
            "Collecting trio~=0.17\n",
            "  Downloading trio-0.21.0-py3-none-any.whl (358 kB)\n",
            "\u001b[K     |████████████████████████████████| 358 kB 50.8 MB/s \n",
            "\u001b[?25hCollecting urllib3[socks]~=1.26\n",
            "  Downloading urllib3-1.26.12-py2.py3-none-any.whl (140 kB)\n",
            "\u001b[K     |████████████████████████████████| 140 kB 57.4 MB/s \n",
            "\u001b[?25hRequirement already satisfied: idna in /usr/local/lib/python3.7/dist-packages (from trio~=0.17->selenium) (2.10)\n",
            "Collecting outcome\n",
            "  Downloading outcome-1.2.0-py2.py3-none-any.whl (9.7 kB)\n",
            "Collecting sniffio\n",
            "  Downloading sniffio-1.3.0-py3-none-any.whl (10 kB)\n",
            "Requirement already satisfied: attrs>=19.2.0 in /usr/local/lib/python3.7/dist-packages (from trio~=0.17->selenium) (22.1.0)\n",
            "Requirement already satisfied: sortedcontainers in /usr/local/lib/python3.7/dist-packages (from trio~=0.17->selenium) (2.4.0)\n",
            "Collecting async-generator>=1.9\n",
            "  Downloading async_generator-1.10-py3-none-any.whl (18 kB)\n",
            "Collecting wsproto>=0.14\n",
            "  Downloading wsproto-1.2.0-py3-none-any.whl (24 kB)\n",
            "Requirement already satisfied: PySocks!=1.5.7,<2.0,>=1.5.6 in /usr/local/lib/python3.7/dist-packages (from urllib3[socks]~=1.26->selenium) (1.7.1)\n",
            "Collecting h11<1,>=0.9.0\n",
            "  Downloading h11-0.13.0-py3-none-any.whl (58 kB)\n",
            "\u001b[K     |████████████████████████████████| 58 kB 6.4 MB/s \n",
            "\u001b[?25hRequirement already satisfied: typing-extensions in /usr/local/lib/python3.7/dist-packages (from h11<1,>=0.9.0->wsproto>=0.14->trio-websocket~=0.9->selenium) (4.1.1)\n",
            "Installing collected packages: sniffio, outcome, h11, async-generator, wsproto, urllib3, trio, trio-websocket, selenium\n",
            "  Attempting uninstall: urllib3\n",
            "    Found existing installation: urllib3 1.24.3\n",
            "    Uninstalling urllib3-1.24.3:\n",
            "      Successfully uninstalled urllib3-1.24.3\n",
            "\u001b[31mERROR: pip's dependency resolver does not currently take into account all the packages that are installed. This behaviour is the source of the following dependency conflicts.\n",
            "requests 2.23.0 requires urllib3!=1.25.0,!=1.25.1,<1.26,>=1.21.1, but you have urllib3 1.26.12 which is incompatible.\u001b[0m\n",
            "Successfully installed async-generator-1.10 h11-0.13.0 outcome-1.2.0 selenium-4.4.3 sniffio-1.3.0 trio-0.21.0 trio-websocket-0.9.2 urllib3-1.26.12 wsproto-1.2.0\n"
          ]
        },
        {
          "output_type": "display_data",
          "data": {
            "application/vnd.colab-display-data+json": {
              "pip_warning": {
                "packages": [
                  "urllib3"
                ]
              }
            }
          },
          "metadata": {}
        }
      ]
    },
    {
      "cell_type": "code",
      "source": [
        "!apt-get update # to update ubuntu to correctly run apt install\n",
        "!apt install chromium-chromedriver\n",
        "!cp /usr/lib/chromium-browser/chromedriver /usr/bin\n",
        "import sys"
      ],
      "metadata": {
        "id": "4NQKBuTPM9gK"
      },
      "execution_count": null,
      "outputs": []
    },
    {
      "cell_type": "code",
      "source": [
        "sys.path.insert(0,'/usr/lib/chromium-browser/chromedriver')"
      ],
      "metadata": {
        "id": "-DzZf3cjOEvm"
      },
      "execution_count": null,
      "outputs": []
    },
    {
      "cell_type": "code",
      "source": [
        "from selenium import webdriver"
      ],
      "metadata": {
        "id": "OkkrG1Rt0urT"
      },
      "execution_count": null,
      "outputs": []
    },
    {
      "cell_type": "code",
      "source": [
        "chrome_options = webdriver.ChromeOptions()\n",
        "chrome_options.add_argument('--headless')\n",
        "chrome_options.add_argument('--no-sandbox')\n",
        "chrome_options.add_argument('--disable-dev-shm-usage')\n",
        "wd = webdriver.Chrome('chromedriver',options=chrome_options)"
      ],
      "metadata": {
        "id": "Y_jfYRdsOMsO"
      },
      "execution_count": null,
      "outputs": []
    },
    {
      "cell_type": "code",
      "source": [
        "url = 'https://www.amazon.ae/'\n",
        "wd.get(url)"
      ],
      "metadata": {
        "id": "EuzpkesIFJC7"
      },
      "execution_count": null,
      "outputs": []
    },
    {
      "cell_type": "code",
      "source": [
        "def get_url(search_term):\n",
        "  ''' Generate a url from search term '''\n",
        "  template = \"https://www.amazon.ae/s?k={}&crid=1SZIMX3YNKO5S&sprefix=ultrawide+monit%2Caps%2C761&ref=nb_sb_noss_2\"\n",
        "  search_term = search_term.replace(' ', '+')\n",
        "  return template.format(search_term)"
      ],
      "metadata": {
        "id": "cVpuS604FbuF"
      },
      "execution_count": null,
      "outputs": []
    },
    {
      "cell_type": "code",
      "source": [
        "url = get_url(\"ultrawide monitor\")\n",
        "print(url)"
      ],
      "metadata": {
        "colab": {
          "base_uri": "https://localhost:8080/"
        },
        "id": "ExD4ySBJQBL6",
        "outputId": "3742f8d4-6855-4fba-c56e-d1859bf7bb93"
      },
      "execution_count": null,
      "outputs": [
        {
          "output_type": "stream",
          "name": "stdout",
          "text": [
            "https://www.amazon.ae/s?k=ultrawide+monitor&crid=1SZIMX3YNKO5S&sprefix=ultrawide+monit%2Caps%2C761&ref=nb_sb_noss_2\n"
          ]
        }
      ]
    },
    {
      "cell_type": "code",
      "source": [
        "wd.get(url)"
      ],
      "metadata": {
        "id": "oE7qaA7lQeTB"
      },
      "execution_count": null,
      "outputs": []
    },
    {
      "cell_type": "markdown",
      "source": [
        "we should know how to extract results from next page and even when there are ads and continue extracting results"
      ],
      "metadata": {
        "id": "21_-cDX3Q0jl"
      }
    },
    {
      "cell_type": "markdown",
      "source": [
        "**EXTRACT THE COLLECTION**"
      ],
      "metadata": {
        "id": "B6ogC4XsRIu6"
      }
    },
    {
      "cell_type": "code",
      "source": [
        "soup = BeautifulSoup(wd.page_source, 'html.parser')\n"
      ],
      "metadata": {
        "id": "dDXvQL46QwQa"
      },
      "execution_count": null,
      "outputs": []
    },
    {
      "cell_type": "code",
      "source": [
        "results = soup.find_all('div', {'data-component-type': 's-search-result'})"
      ],
      "metadata": {
        "id": "orZDa38KSru2"
      },
      "execution_count": null,
      "outputs": []
    },
    {
      "cell_type": "code",
      "source": [
        "len(results)"
      ],
      "metadata": {
        "colab": {
          "base_uri": "https://localhost:8080/"
        },
        "id": "JrRAp_P2TfTL",
        "outputId": "91507aca-572d-4ef6-bf0f-f279cd813694"
      },
      "execution_count": null,
      "outputs": [
        {
          "output_type": "execute_result",
          "data": {
            "text/plain": [
              "48"
            ]
          },
          "metadata": {},
          "execution_count": 37
        }
      ]
    },
    {
      "cell_type": "markdown",
      "source": [
        "**prototype the record**"
      ],
      "metadata": {
        "id": "YCTogvbJToQg"
      }
    },
    {
      "cell_type": "code",
      "source": [
        "item = results[0]"
      ],
      "metadata": {
        "id": "OSutpNp-T4-t"
      },
      "execution_count": null,
      "outputs": []
    },
    {
      "cell_type": "code",
      "source": [
        "atag = item.h2.a"
      ],
      "metadata": {
        "id": "5f1z7CAcT89r"
      },
      "execution_count": null,
      "outputs": []
    },
    {
      "cell_type": "code",
      "source": [
        "description = atag.text.strip() # strip method to remove the extra spaces"
      ],
      "metadata": {
        "id": "wznQAB-nUF7Z"
      },
      "execution_count": null,
      "outputs": []
    },
    {
      "cell_type": "code",
      "source": [
        "url = 'https://www.amazon.ae' + atag.get('href')"
      ],
      "metadata": {
        "id": "m51LLTRYUWDu"
      },
      "execution_count": null,
      "outputs": []
    },
    {
      "cell_type": "code",
      "source": [
        "price_parent = item.find('span', 'a-price')"
      ],
      "metadata": {
        "id": "BneZ-OS4Undk"
      },
      "execution_count": null,
      "outputs": []
    },
    {
      "cell_type": "code",
      "source": [
        "price = price_parent.find('span', 'a-offscreen').text"
      ],
      "metadata": {
        "id": "870zh9eMUwjz"
      },
      "execution_count": null,
      "outputs": []
    },
    {
      "cell_type": "code",
      "source": [
        "rating = item.i.text"
      ],
      "metadata": {
        "id": "G7Mx1sWoU-8M"
      },
      "execution_count": null,
      "outputs": []
    },
    {
      "cell_type": "code",
      "source": [
        "review_count = item.find('span', {'class': 'a-size-base s-underline-text'}).text"
      ],
      "metadata": {
        "id": "r_Cq143XVbU1"
      },
      "execution_count": null,
      "outputs": []
    },
    {
      "cell_type": "code",
      "source": [
        "print(review_count)"
      ],
      "metadata": {
        "colab": {
          "base_uri": "https://localhost:8080/"
        },
        "id": "fNFrWtmoZtYh",
        "outputId": "e3757e26-07ec-4246-af07-9b93b7e343d8"
      },
      "execution_count": null,
      "outputs": [
        {
          "output_type": "stream",
          "name": "stdout",
          "text": [
            "3\n"
          ]
        }
      ]
    },
    {
      "cell_type": "markdown",
      "source": [
        "Generalize the pattern to apply to more"
      ],
      "metadata": {
        "id": "PBbM-0XYXIVg"
      }
    },
    {
      "cell_type": "code",
      "source": [
        "def extract_record(item):\n",
        "  atag = item.h2.a\n",
        "  description = atag.text.strip()\n",
        "  url = 'https://www.amazon.ae' + atag.get('href')\n",
        "\n",
        "  # price\n",
        "  try:\n",
        "    price_parent = item.find('span', 'a-price')\n",
        "    price = price_parent.find('span', 'a-offscreen').text\n",
        "  except AttributeError:\n",
        "    return\n",
        "\n",
        "  # rank and review\n",
        "  try:\n",
        "    rating = item.i.text\n",
        "    review_count = item.find('span', {'class': 'a-size-base s-underline-text'}).text\n",
        "  except AttributeError:\n",
        "    rating =''\n",
        "    review_count = ''\n",
        "\n",
        "  result = (description, price, rating, review_count, url)\n",
        "  return result\n",
        "\n",
        "\n"
      ],
      "metadata": {
        "id": "osskZEHyVur9"
      },
      "execution_count": null,
      "outputs": []
    },
    {
      "cell_type": "code",
      "source": [
        "records =[]\n",
        "results = soup.find_all('div', {'data-component-type': 's-search-result'})\n",
        "for item in results:\n",
        "  record = extract_record(item)\n",
        "  if record:\n",
        "    records.append(record)"
      ],
      "metadata": {
        "id": "9KSrVvseX2Bu"
      },
      "execution_count": null,
      "outputs": []
    },
    {
      "cell_type": "code",
      "source": [
        "records[0]"
      ],
      "metadata": {
        "colab": {
          "base_uri": "https://localhost:8080/"
        },
        "id": "mmEmXFgCbLOm",
        "outputId": "8b316bd3-ee5d-4360-fb87-95c819f9d152"
      },
      "execution_count": null,
      "outputs": [
        {
          "output_type": "execute_result",
          "data": {
            "text/plain": [
              "('LG 34WP550 34-Inch 21:9 UltraWide Full HD (2560 x 1080) IPS Borderless Monitor with AMD FreeSync - Black',\n",
              " 'AED\\xa01,146.00',\n",
              " '5.0 out of 5 stars',\n",
              " '3',\n",
              " 'https://www.amazon.ae/LG-34WP550-34-Inch-UltraWide-Borderless/dp/B09SKMRNK8/ref=sr_1_1?crid=1SZIMX3YNKO5S&keywords=ultrawide+monitor&qid=1664018980&sprefix=ultrawide+monit%2Caps%2C761&sr=8-1')"
            ]
          },
          "metadata": {},
          "execution_count": 64
        }
      ]
    },
    {
      "cell_type": "code",
      "source": [
        "for row in records:\n",
        "  print(row[1])"
      ],
      "metadata": {
        "colab": {
          "base_uri": "https://localhost:8080/"
        },
        "id": "80fhPlRKbNL-",
        "outputId": "b745e163-1812-4db1-c8a6-7b04932ea918"
      },
      "execution_count": null,
      "outputs": [
        {
          "output_type": "stream",
          "name": "stdout",
          "text": [
            "AED 1,146.00\n",
            "AED 799.00\n",
            "AED 1,525.00\n",
            "AED 1,458.00\n",
            "AED 1,299.43\n",
            "AED 1,650.00\n",
            "AED 1,159.00\n",
            "AED 2,096.00\n",
            "AED 1,295.43\n",
            "AED 4,215.00\n",
            "AED 1,047.00\n",
            "AED 2,499.00\n",
            "AED 1,760.00\n",
            "AED 1,859.00\n",
            "AED 1,550.00\n",
            "AED 1,338.00\n",
            "AED 649.00\n",
            "AED 5,519.00\n",
            "AED 2,999.00\n",
            "AED 1,489.99\n",
            "AED 1,201.01\n",
            "AED 1,669.99\n",
            "AED 451.00\n",
            "AED 975.00\n",
            "AED 1,771.99\n",
            "AED 2,730.00\n",
            "AED 745.00\n",
            "AED 538.00\n",
            "AED 989.00\n",
            "AED 2,205.00\n",
            "AED 2,769.99\n",
            "AED 3,217.12\n",
            "AED 1,050.93\n",
            "AED 2,051.00\n",
            "AED 1,406.25\n",
            "AED 1,655.00\n",
            "AED 4,800.00\n",
            "AED 1,578.68\n",
            "AED 1,442.01\n",
            "AED 2,710.34\n",
            "AED 855.00\n",
            "AED 3,499.00\n",
            "AED 2,849.99\n",
            "AED 1,897.99\n",
            "AED 3,909.00\n"
          ]
        }
      ]
    },
    {
      "cell_type": "markdown",
      "source": [
        "Generating next page ( you can do it using the next button or check the query in the url )\n",
        "\n",
        "\n"
      ],
      "metadata": {
        "id": "5xZIcplRa89H"
      }
    },
    {
      "cell_type": "code",
      "source": [
        "def get_url(search_term):\n",
        "  ''' Generate a url from search term '''\n",
        "  template = \"https://www.amazon.ae/s?k={}&crid=1SZIMX3YNKO5S&sprefix=ultrawide+monit%2Caps%2C761&ref=nb_sb_noss_2\"\n",
        "\n",
        "  search_term = search_term.replace(' ', '+')\n",
        "  #add term query to url\n",
        "  url = template.format(search_term)\n",
        "\n",
        "  # add page query placeholder\n",
        "  url += '&page{}'\n",
        "  return url"
      ],
      "metadata": {
        "id": "ks8Fo_tBai6r"
      },
      "execution_count": null,
      "outputs": []
    },
    {
      "cell_type": "markdown",
      "source": [
        "\n",
        "\n"
      ],
      "metadata": {
        "id": "1uSUCjpfcSnf"
      }
    },
    {
      "cell_type": "code",
      "source": [
        "import csv\n",
        "from bs4 import BeautifulSoup\n",
        "from selenium import webdriver\n",
        "\n",
        "def get_url(search_term):\n",
        "  ''' Generate a url from search term '''\n",
        "  template = \"https://www.amazon.ae/s?k={}&crid=1SZIMX3YNKO5S&sprefix=ultrawide+monit%2Caps%2C761&ref=nb_sb_noss_2\"\n",
        "\n",
        "  search_term = search_term.replace(' ', '+')\n",
        "  #add term query to url\n",
        "  url = template.format(search_term)\n",
        "\n",
        "  # add page query placeholder\n",
        "  url += '&page{}'\n",
        "  return url\n",
        "\n",
        "def extract_record(item):\n",
        "  atag = item.h2.a\n",
        "  description = atag.text.strip()\n",
        "  url = 'https://www.amazon.ae' + atag.get('href')\n",
        "\n",
        "  # price\n",
        "  try:\n",
        "    price_parent = item.find('span', 'a-price')\n",
        "    price = price_parent.find('span', 'a-offscreen').text\n",
        "  except AttributeError:\n",
        "    return\n",
        "\n",
        "  # rank and review\n",
        "  try:\n",
        "    rating = item.i.text\n",
        "    review_count = item.find('span', {'class': 'a-size-base s-underline-text'}).text\n",
        "  except AttributeError:\n",
        "    rating =''\n",
        "    review_count = ''\n",
        "\n",
        "  result = (description, price, rating, review_count, url)\n",
        "  return result\n",
        "\n",
        "\n",
        "\n",
        "def main(search_term):\n",
        "  chrome_options = webdriver.ChromeOptions()\n",
        "  chrome_options.add_argument('--headless')\n",
        "  chrome_options.add_argument('--no-sandbox')\n",
        "  chrome_options.add_argument('--disable-dev-shm-usage')\n",
        "  wd = webdriver.Chrome('chromedriver',options=chrome_options)\n",
        "\n",
        "  records =[]\n",
        "  url = get_url(search_term)\n",
        "\n",
        "  for page in range(1, 21):\n",
        "    wd.get(url.format(page))\n",
        "    soup = BeautifulSoup(wd.page_source, 'html.parser')\n",
        "    results = soup.find_all('div', {'data-component-type': 's-search-result'})\n",
        "    for item in results:\n",
        "      record = extract_record(item)\n",
        "      if record:\n",
        "        records.append(record)\n",
        "  wd.close()\n",
        "\n",
        "  with open('results.csv', 'w', newline='', encoding='utf-8') as f:\n",
        "    writer = csv.writer(f)\n",
        "    writer.writerow(['Description', 'Price', 'Rating' 'ReviewCount', 'Url'])\n",
        "    writer.writerows(records)\n",
        "\n",
        "\n",
        "\n",
        "\n",
        "\n"
      ],
      "metadata": {
        "id": "CyBiig75cl9S"
      },
      "execution_count": null,
      "outputs": []
    },
    {
      "cell_type": "code",
      "source": [
        "main('ultrawide monitor')"
      ],
      "metadata": {
        "id": "_v3txANyuvMP"
      },
      "execution_count": null,
      "outputs": []
    }
  ]
}